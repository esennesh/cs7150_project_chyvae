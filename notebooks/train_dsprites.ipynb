{
 "cells": [
  {
   "cell_type": "code",
   "execution_count": 1,
   "metadata": {},
   "outputs": [
    {
     "name": "stdout",
     "output_type": "stream",
     "text": [
      "/home/work/AnacondaProjects/cs7150_project_chyvae\n"
     ]
    }
   ],
   "source": [
    "%cd .."
   ]
  },
  {
   "cell_type": "code",
   "execution_count": 2,
   "metadata": {},
   "outputs": [],
   "source": [
    "import collections\n",
    "import torch\n",
    "import numpy as np\n",
    "import data_loader.data_loaders as module_data\n",
    "import model.loss as module_loss\n",
    "import model.model as module_arch\n",
    "from parse_config import ConfigParser\n",
    "from trainer import Trainer"
   ]
  },
  {
   "cell_type": "code",
   "execution_count": 3,
   "metadata": {},
   "outputs": [],
   "source": [
    "%matplotlib inline"
   ]
  },
  {
   "cell_type": "code",
   "execution_count": 4,
   "metadata": {},
   "outputs": [],
   "source": [
    "# torch.autograd.set_detect_anomaly(True)"
   ]
  },
  {
   "cell_type": "code",
   "execution_count": 5,
   "metadata": {},
   "outputs": [],
   "source": [
    "# fix random seeds for reproducibility\n",
    "SEED = 123\n",
    "torch.manual_seed(SEED)\n",
    "torch.backends.cudnn.deterministic = True\n",
    "torch.backends.cudnn.benchmark = False\n",
    "np.random.seed(SEED)"
   ]
  },
  {
   "cell_type": "code",
   "execution_count": 6,
   "metadata": {},
   "outputs": [],
   "source": [
    "Args = collections.namedtuple('Args', 'config resume device')\n",
    "config = ConfigParser.from_args(Args(config='config.json', resume=None, device=None))"
   ]
  },
  {
   "cell_type": "code",
   "execution_count": 7,
   "metadata": {},
   "outputs": [],
   "source": [
    "logger = config.get_logger('train')"
   ]
  },
  {
   "cell_type": "code",
   "execution_count": 8,
   "metadata": {},
   "outputs": [
    {
     "name": "stdout",
     "output_type": "stream",
     "text": [
      "Keys in the dataset: KeysView(<numpy.lib.npyio.NpzFile object at 0x7f9c8c953670>)\n",
      "Dataset loaded : OK.\n"
     ]
    }
   ],
   "source": [
    "# setup data_loader instances\n",
    "data_loader = config.init_obj('data_loader', module_data)\n",
    "valid_data_loader = data_loader.split_validation()"
   ]
  },
  {
   "cell_type": "code",
   "execution_count": 9,
   "metadata": {},
   "outputs": [],
   "source": [
    "# build model architecture, then print to console\n",
    "model = config.init_obj('arch', module_arch)"
   ]
  },
  {
   "cell_type": "code",
   "execution_count": 10,
   "metadata": {},
   "outputs": [],
   "source": [
    "criterion = getattr(module_loss, config['loss'])"
   ]
  },
  {
   "cell_type": "code",
   "execution_count": 11,
   "metadata": {},
   "outputs": [],
   "source": [
    "trainable_params = filter(lambda p: p.requires_grad, model.parameters())\n",
    "optimizer = config.init_obj('optimizer', torch.optim, trainable_params)\n",
    "\n",
    "lr_scheduler = config.init_obj('lr_scheduler', torch.optim.lr_scheduler, optimizer)"
   ]
  },
  {
   "cell_type": "code",
   "execution_count": 12,
   "metadata": {},
   "outputs": [],
   "source": [
    "trainer = Trainer(model, criterion, [], optimizer, config=config,\n",
    "                  data_loader=data_loader,\n",
    "                  valid_data_loader=valid_data_loader)"
   ]
  },
  {
   "cell_type": "code",
   "execution_count": null,
   "metadata": {},
   "outputs": [
    {
     "name": "stdout",
     "output_type": "stream",
     "text": [
      "Train Epoch: 1 [0/663552 (0%)] Loss: 18.483734\n",
      "Train Epoch: 1 [92160/663552 (14%)] Loss: -645.057739\n",
      "Train Epoch: 1 [184320/663552 (28%)] Loss: -10898.842773\n",
      "Train Epoch: 1 [276480/663552 (42%)] Loss: -10961.006836\n",
      "Train Epoch: 1 [368640/663552 (56%)] Loss: -11008.151367\n",
      "Train Epoch: 1 [460800/663552 (69%)] Loss: -11041.430664\n",
      "Train Epoch: 1 [552960/663552 (83%)] Loss: -11067.125000\n",
      "Train Epoch: 1 [645120/663552 (97%)] Loss: -11084.298828\n",
      "    epoch          : 1\n",
      "    loss           : -9067.938672948767\n",
      "    val_loss       : -11086.742974175348\n",
      "Saving checkpoint: saved/models/Shapes_ChyVAE/0731_143825/checkpoint-epoch1.pth ...\n",
      "Saving current best: model_best.pth ...\n",
      "Train Epoch: 2 [0/663552 (0%)] Loss: -11087.158203\n",
      "Train Epoch: 2 [92160/663552 (14%)] Loss: -11098.053711\n",
      "Train Epoch: 2 [184320/663552 (28%)] Loss: -11106.227539\n",
      "Train Epoch: 2 [276480/663552 (42%)] Loss: -11111.235352\n",
      "Train Epoch: 2 [368640/663552 (56%)] Loss: -11114.556641\n",
      "Train Epoch: 2 [460800/663552 (69%)] Loss: -11116.450195\n",
      "Train Epoch: 2 [552960/663552 (83%)] Loss: -11118.138672\n",
      "Train Epoch: 2 [645120/663552 (97%)] Loss: -11119.670898\n",
      "    epoch          : 2\n",
      "    loss           : -11109.785129123264\n",
      "    val_loss       : -11119.590142144098\n",
      "Saving checkpoint: saved/models/Shapes_ChyVAE/0731_143825/checkpoint-epoch2.pth ...\n",
      "Saving current best: model_best.pth ...\n",
      "Train Epoch: 3 [0/663552 (0%)] Loss: -11120.240234\n",
      "Train Epoch: 3 [92160/663552 (14%)] Loss: -11122.063477\n",
      "Train Epoch: 3 [184320/663552 (28%)] Loss: -11122.538086\n",
      "Train Epoch: 3 [276480/663552 (42%)] Loss: -11123.321289\n",
      "Train Epoch: 3 [368640/663552 (56%)] Loss: -11125.423828\n",
      "Train Epoch: 3 [460800/663552 (69%)] Loss: -11126.864258\n",
      "Train Epoch: 3 [552960/663552 (83%)] Loss: -11127.249023\n",
      "Train Epoch: 3 [645120/663552 (97%)] Loss: -11127.829102\n",
      "    epoch          : 3\n",
      "    loss           : -11124.757809485918\n",
      "    val_loss       : -11129.771674262152\n",
      "Saving checkpoint: saved/models/Shapes_ChyVAE/0731_143825/checkpoint-epoch3.pth ...\n",
      "Saving current best: model_best.pth ...\n",
      "Train Epoch: 4 [0/663552 (0%)] Loss: -11129.447266\n",
      "Train Epoch: 4 [92160/663552 (14%)] Loss: -11131.035156\n",
      "Train Epoch: 4 [184320/663552 (28%)] Loss: -11132.515625\n",
      "Train Epoch: 4 [276480/663552 (42%)] Loss: -11132.304688\n",
      "Train Epoch: 4 [368640/663552 (56%)] Loss: -11134.309570\n",
      "Train Epoch: 4 [460800/663552 (69%)] Loss: -11136.360352\n",
      "Train Epoch: 4 [552960/663552 (83%)] Loss: -11136.534180\n",
      "Train Epoch: 4 [645120/663552 (97%)] Loss: -11138.296875\n",
      "    epoch          : 4\n",
      "    loss           : -11133.75468086902\n",
      "    val_loss       : -11137.948513454861\n",
      "Saving checkpoint: saved/models/Shapes_ChyVAE/0731_143825/checkpoint-epoch4.pth ...\n",
      "Saving current best: model_best.pth ...\n",
      "Train Epoch: 5 [0/663552 (0%)] Loss: -11139.063477\n",
      "Train Epoch: 5 [92160/663552 (14%)] Loss: -11138.415039\n",
      "Train Epoch: 5 [184320/663552 (28%)] Loss: -11139.171875\n",
      "Train Epoch: 5 [276480/663552 (42%)] Loss: -11142.351562\n",
      "Train Epoch: 5 [368640/663552 (56%)] Loss: -11141.906250\n",
      "Train Epoch: 5 [460800/663552 (69%)] Loss: -11143.721680\n",
      "Train Epoch: 5 [552960/663552 (83%)] Loss: -11144.109375\n",
      "Train Epoch: 5 [645120/663552 (97%)] Loss: -11145.566406\n",
      "    epoch          : 5\n",
      "    loss           : -11141.651258680555\n",
      "    val_loss       : -11145.293972439236\n",
      "Saving checkpoint: saved/models/Shapes_ChyVAE/0731_143825/checkpoint-epoch5.pth ...\n",
      "Saving current best: model_best.pth ...\n",
      "Train Epoch: 6 [0/663552 (0%)] Loss: -11145.841797\n",
      "Train Epoch: 6 [92160/663552 (14%)] Loss: -11144.906250\n",
      "Train Epoch: 6 [184320/663552 (28%)] Loss: -11147.635742\n",
      "Train Epoch: 6 [276480/663552 (42%)] Loss: -11148.786133\n",
      "Train Epoch: 6 [368640/663552 (56%)] Loss: -11149.551758\n",
      "Train Epoch: 6 [460800/663552 (69%)] Loss: -11149.952148\n",
      "Train Epoch: 6 [552960/663552 (83%)] Loss: -11150.721680\n",
      "Train Epoch: 6 [645120/663552 (97%)] Loss: -11151.664062\n",
      "    epoch          : 6\n",
      "    loss           : -11148.480758101852\n",
      "    val_loss       : -11151.717610677084\n",
      "Saving checkpoint: saved/models/Shapes_ChyVAE/0731_143825/checkpoint-epoch6.pth ...\n",
      "Saving current best: model_best.pth ...\n",
      "Train Epoch: 7 [0/663552 (0%)] Loss: -11151.874023\n",
      "Train Epoch: 7 [92160/663552 (14%)] Loss: -11150.771484\n",
      "Train Epoch: 7 [184320/663552 (28%)] Loss: -11152.921875\n",
      "Train Epoch: 7 [276480/663552 (42%)] Loss: -11154.687500\n",
      "Train Epoch: 7 [368640/663552 (56%)] Loss: -11154.541992\n",
      "Train Epoch: 7 [460800/663552 (69%)] Loss: -11156.554688\n",
      "Train Epoch: 7 [552960/663552 (83%)] Loss: -11157.104492\n",
      "Train Epoch: 7 [645120/663552 (97%)] Loss: -11158.832031\n",
      "    epoch          : 7\n",
      "    loss           : -11154.615210262345\n",
      "    val_loss       : -11157.67724609375\n",
      "Saving checkpoint: saved/models/Shapes_ChyVAE/0731_143825/checkpoint-epoch7.pth ...\n",
      "Saving current best: model_best.pth ...\n",
      "Train Epoch: 8 [0/663552 (0%)] Loss: -11157.381836\n",
      "Train Epoch: 8 [92160/663552 (14%)] Loss: -11157.129883\n",
      "Train Epoch: 8 [184320/663552 (28%)] Loss: -11158.340820\n",
      "Train Epoch: 8 [276480/663552 (42%)] Loss: -11159.287109\n",
      "Train Epoch: 8 [368640/663552 (56%)] Loss: -11160.791016\n",
      "Train Epoch: 8 [460800/663552 (69%)] Loss: -11160.780273\n",
      "Train Epoch: 8 [552960/663552 (83%)] Loss: -11161.220703\n",
      "Train Epoch: 8 [645120/663552 (97%)] Loss: -11162.169922\n",
      "    epoch          : 8\n",
      "    loss           : -11160.165596667632\n",
      "    val_loss       : -11163.021375868055\n",
      "Saving checkpoint: saved/models/Shapes_ChyVAE/0731_143825/checkpoint-epoch8.pth ...\n",
      "Saving current best: model_best.pth ...\n",
      "Train Epoch: 9 [0/663552 (0%)] Loss: -11162.668945\n",
      "Train Epoch: 9 [92160/663552 (14%)] Loss: -11163.605469\n",
      "Train Epoch: 9 [184320/663552 (28%)] Loss: -11164.899414\n",
      "Train Epoch: 9 [276480/663552 (42%)] Loss: -11164.246094\n",
      "Train Epoch: 9 [368640/663552 (56%)] Loss: -11165.966797\n",
      "Train Epoch: 9 [460800/663552 (69%)] Loss: -11166.121094\n",
      "Train Epoch: 9 [552960/663552 (83%)] Loss: -11167.290039\n"
     ]
    }
   ],
   "source": [
    "trainer.train()"
   ]
  },
  {
   "cell_type": "code",
   "execution_count": null,
   "metadata": {},
   "outputs": [],
   "source": []
  }
 ],
 "metadata": {
  "kernelspec": {
   "display_name": "Python [conda env:RoutingCategories] *",
   "language": "python",
   "name": "conda-env-RoutingCategories-py"
  },
  "language_info": {
   "codemirror_mode": {
    "name": "ipython",
    "version": 3
   },
   "file_extension": ".py",
   "mimetype": "text/x-python",
   "name": "python",
   "nbconvert_exporter": "python",
   "pygments_lexer": "ipython3",
   "version": "3.8.2"
  }
 },
 "nbformat": 4,
 "nbformat_minor": 4
}

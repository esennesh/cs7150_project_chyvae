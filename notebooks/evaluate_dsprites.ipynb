{
 "cells": [
  {
   "cell_type": "code",
   "execution_count": 1,
   "metadata": {},
   "outputs": [
    {
     "name": "stdout",
     "output_type": "stream",
     "text": [
      "/home/work/AnacondaProjects/cs7150_project_chyvae\n"
     ]
    }
   ],
   "source": [
    "%cd .."
   ]
  },
  {
   "cell_type": "code",
   "execution_count": 2,
   "metadata": {},
   "outputs": [],
   "source": [
    "import collections\n",
    "import torch\n",
    "import numpy as np\n",
    "import data_loader.data_loaders as module_data\n",
    "import model.loss as module_loss\n",
    "import model.metric as module_metric\n",
    "import model.model as module_arch\n",
    "from parse_config import ConfigParser\n",
    "from trainer import Trainer"
   ]
  },
  {
   "cell_type": "code",
   "execution_count": 3,
   "metadata": {},
   "outputs": [],
   "source": [
    "%matplotlib inline"
   ]
  },
  {
   "cell_type": "code",
   "execution_count": 4,
   "metadata": {},
   "outputs": [],
   "source": [
    "# torch.autograd.set_detect_anomaly(True)"
   ]
  },
  {
   "cell_type": "code",
   "execution_count": 5,
   "metadata": {},
   "outputs": [],
   "source": [
    "# fix random seeds for reproducibility\n",
    "SEED = 123\n",
    "torch.manual_seed(SEED)\n",
    "torch.backends.cudnn.deterministic = True\n",
    "torch.backends.cudnn.benchmark = False\n",
    "np.random.seed(SEED)"
   ]
  },
  {
   "cell_type": "code",
   "execution_count": 6,
   "metadata": {},
   "outputs": [],
   "source": [
    "Args = collections.namedtuple('Args', 'config resume device')\n",
    "config = ConfigParser.from_args(Args(config='config.json', resume=None, device=None))"
   ]
  },
  {
   "cell_type": "code",
   "execution_count": 7,
   "metadata": {},
   "outputs": [],
   "source": [
    "logger = config.get_logger('train')"
   ]
  },
  {
   "cell_type": "code",
   "execution_count": 8,
   "metadata": {},
   "outputs": [
    {
     "name": "stdout",
     "output_type": "stream",
     "text": [
      "Keys in the dataset: KeysView(<numpy.lib.npyio.NpzFile object at 0x7f45842dfd60>)\n",
      "Dataset loaded : OK.\n"
     ]
    }
   ],
   "source": [
    "# setup data_loader instances\n",
    "data_loader = config.init_obj('data_loader', module_data)\n",
    "valid_data_loader = data_loader.split_validation()"
   ]
  },
  {
   "cell_type": "code",
   "execution_count": 9,
   "metadata": {},
   "outputs": [],
   "source": [
    "# build model architecture, then print to console\n",
    "model = config.init_obj('arch', module_arch)"
   ]
  },
  {
   "cell_type": "code",
   "execution_count": 10,
   "metadata": {},
   "outputs": [],
   "source": [
    "criterion = getattr(module_loss, config['loss'])"
   ]
  },
  {
   "cell_type": "code",
   "execution_count": 11,
   "metadata": {},
   "outputs": [],
   "source": [
    "metrics = [getattr(module_metric, metric) for metric in config['metrics']]"
   ]
  },
  {
   "cell_type": "code",
   "execution_count": 12,
   "metadata": {},
   "outputs": [],
   "source": [
    "trainable_params = filter(lambda p: p.requires_grad, model.parameters())\n",
    "optimizer = config.init_obj('optimizer', torch.optim, trainable_params)\n",
    "\n",
    "lr_scheduler = config.init_obj('lr_scheduler', torch.optim.lr_scheduler, optimizer)"
   ]
  },
  {
   "cell_type": "code",
   "execution_count": 13,
   "metadata": {},
   "outputs": [],
   "source": [
    "trainer = Trainer(model, criterion, metrics, optimizer, config=config,\n",
    "                  data_loader=data_loader,\n",
    "                  valid_data_loader=valid_data_loader,\n",
    "                  lr_scheduler=lr_scheduler)"
   ]
  },
  {
   "cell_type": "code",
   "execution_count": 14,
   "metadata": {},
   "outputs": [
    {
     "name": "stdout",
     "output_type": "stream",
     "text": [
      "Loading checkpoint: saved/models/Shapes_ChyVAE/0802_175221/checkpoint-epoch100.pth ...\n",
      "Checkpoint loaded. Resume training from epoch 101\n"
     ]
    }
   ],
   "source": [
    "trainer._resume_checkpoint('saved/models/Shapes_ChyVAE/0802_175221/checkpoint-epoch100.pth')"
   ]
  },
  {
   "cell_type": "code",
   "execution_count": 15,
   "metadata": {},
   "outputs": [
    {
     "name": "stdout",
     "output_type": "stream",
     "text": [
      "    epoch          : 0\n",
      "    loss           : -11122.962456597223\n",
      "    log_likelihood : -11330.8779296875\n",
      "    reconstruction_error: 10.866299629211426\n",
      "    disentanglement_metric: 0.19854164123535156\n",
      "    epoch          : 1\n",
      "    loss           : -11122.96275499132\n",
      "    log_likelihood : -11330.8779296875\n",
      "    reconstruction_error: 10.866297721862793\n",
      "    disentanglement_metric: 0.20329861342906952\n",
      "    epoch          : 2\n",
      "    loss           : -11122.962646484375\n",
      "    log_likelihood : -11330.8779296875\n",
      "    reconstruction_error: 10.86629867553711\n",
      "    disentanglement_metric: 0.20232640206813812\n",
      "    epoch          : 3\n",
      "    loss           : -11122.962836371527\n",
      "    log_likelihood : -11330.87890625\n",
      "    reconstruction_error: 10.866299629211426\n",
      "    disentanglement_metric: 0.19788196682929993\n",
      "    epoch          : 4\n",
      "    loss           : -11122.962917751736\n",
      "    log_likelihood : -11330.876953125\n",
      "    reconstruction_error: 10.866297721862793\n",
      "    disentanglement_metric: 0.20222222805023193\n",
      "    epoch          : 5\n",
      "    loss           : -11122.96204969618\n",
      "    log_likelihood : -11330.87890625\n",
      "    reconstruction_error: 10.86629867553711\n",
      "    disentanglement_metric: 0.20284722745418549\n",
      "    epoch          : 6\n",
      "    loss           : -11122.962565104166\n",
      "    log_likelihood : -11330.8759765625\n",
      "    reconstruction_error: 10.866297721862793\n",
      "    disentanglement_metric: 0.20211806893348694\n",
      "    epoch          : 7\n",
      "    loss           : -11122.962239583334\n",
      "    log_likelihood : -11330.8759765625\n",
      "    reconstruction_error: 10.86629867553711\n",
      "    disentanglement_metric: 0.19996528327465057\n",
      "    epoch          : 8\n",
      "    loss           : -11122.96226671007\n",
      "    log_likelihood : -11330.876953125\n",
      "    reconstruction_error: 10.866297721862793\n",
      "    disentanglement_metric: 0.19930553436279297\n",
      "    epoch          : 9\n",
      "    loss           : -11122.962565104166\n",
      "    log_likelihood : -11330.8798828125\n",
      "    reconstruction_error: 10.866297721862793\n",
      "    disentanglement_metric: 0.203229159116745\n",
      "    epoch          : 10\n",
      "    loss           : -11122.962429470486\n",
      "    log_likelihood : -11330.8759765625\n",
      "    reconstruction_error: 10.86629867553711\n",
      "    disentanglement_metric: 0.19993054866790771\n",
      "    epoch          : 11\n",
      "    loss           : -11122.961995442709\n",
      "    log_likelihood : -11330.87890625\n",
      "    reconstruction_error: 10.866297721862793\n",
      "    disentanglement_metric: 0.20204861462116241\n",
      "    epoch          : 12\n",
      "    loss           : -11122.962510850695\n",
      "    log_likelihood : -11330.876953125\n",
      "    reconstruction_error: 10.86629581451416\n",
      "    disentanglement_metric: 0.2027430534362793\n",
      "    epoch          : 13\n",
      "    loss           : -11122.962836371527\n",
      "    log_likelihood : -11330.876953125\n",
      "    reconstruction_error: 10.866299629211426\n",
      "    disentanglement_metric: 0.20364585518836975\n",
      "    epoch          : 14\n",
      "    loss           : -11122.962320963541\n",
      "    log_likelihood : -11330.875\n",
      "    reconstruction_error: 10.866296768188477\n",
      "    disentanglement_metric: 0.19999998807907104\n",
      "    epoch          : 15\n",
      "    loss           : -11122.962592230902\n",
      "    log_likelihood : -11330.8798828125\n",
      "    reconstruction_error: 10.866296768188477\n",
      "    disentanglement_metric: 0.20163196325302124\n",
      "    epoch          : 16\n",
      "    loss           : -11122.962429470486\n",
      "    log_likelihood : -11330.87890625\n",
      "    reconstruction_error: 10.866297721862793\n",
      "    disentanglement_metric: 0.1970486044883728\n",
      "    epoch          : 17\n",
      "    loss           : -11122.962700737848\n",
      "    log_likelihood : -11330.8759765625\n",
      "    reconstruction_error: 10.86629867553711\n",
      "    disentanglement_metric: 0.19805556535720825\n",
      "    epoch          : 18\n",
      "    loss           : -11122.962565104166\n",
      "    log_likelihood : -11330.8779296875\n",
      "    reconstruction_error: 10.86629581451416\n",
      "    disentanglement_metric: 0.20336806774139404\n",
      "    epoch          : 19\n",
      "    loss           : -11122.962673611111\n",
      "    log_likelihood : -11330.8779296875\n",
      "    reconstruction_error: 10.86629581451416\n",
      "    disentanglement_metric: 0.19864583015441895\n"
     ]
    }
   ],
   "source": [
    "metrics = trainer.validate(20)"
   ]
  },
  {
   "cell_type": "code",
   "execution_count": 16,
   "metadata": {},
   "outputs": [],
   "source": [
    "reconstruction_errors = np.array([m['reconstruction_error'] for m in metrics])\n",
    "disentanglement_metrics = np.array([m['disentanglement_metric'] for m in metrics])"
   ]
  },
  {
   "cell_type": "code",
   "execution_count": 17,
   "metadata": {},
   "outputs": [],
   "source": [
    "import seaborn as sns\n",
    "import matplotlib.pyplot as plt"
   ]
  },
  {
   "cell_type": "code",
   "execution_count": 18,
   "metadata": {},
   "outputs": [],
   "source": [
    "sns.set()"
   ]
  },
  {
   "cell_type": "code",
   "execution_count": 21,
   "metadata": {},
   "outputs": [
    {
     "data": {
      "image/png": "[encoded data removed]",
      "text/plain": [
       "<Figure size 432x288 with 1 Axes>"
      ]
     },
     "metadata": {},
     "output_type": "display_data"
    }
   ],
   "source": [
    "ax = sns.scatterplot(reconstruction_errors, disentanglement_metrics)\n",
    "ax.set_xlim((5, 90))\n",
    "ax.set_ylim((0.1, 0.95))\n",
    "plt.savefig('chyvae_replication_metric_graph.pdf')"
   ]
  },
  {
   "cell_type": "code",
   "execution_count": 22,
   "metadata": {},
   "outputs": [],
   "source": [
    "torch.save(model, 'dsprites_validation.pt')"
   ]
  },
  {
   "cell_type": "code",
   "execution_count": null,
   "metadata": {},
   "outputs": [],
   "source": []
  }
 ],
 "metadata": {
  "kernelspec": {
   "display_name": "Python [conda env:RoutingCategories] *",
   "language": "python",
   "name": "conda-env-RoutingCategories-py"
  },
  "language_info": {
   "codemirror_mode": {
    "name": "ipython",
    "version": 3
   },
   "file_extension": ".py",
   "mimetype": "text/x-python",
   "name": "python",
   "nbconvert_exporter": "python",
   "pygments_lexer": "ipython3",
   "version": "3.8.2"
  }
 },
 "nbformat": 4,
 "nbformat_minor": 4
}
